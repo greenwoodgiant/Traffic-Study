{
 "cells": [
  {
   "cell_type": "code",
   "execution_count": 1,
   "metadata": {
    "collapsed": true
   },
   "outputs": [],
   "source": [
    "import pandas as pd\n",
    "import pandas as pd\n",
    "import matplotlib.pyplot as plt\n",
    "import numpy as np\n",
    "import seaborn as sns\n",
    "import os\n"
   ]
  },
  {
   "cell_type": "code",
   "execution_count": 2,
   "metadata": {},
   "outputs": [],
   "source": [
    "y2010 = os.path.join(\"TX 2010 Speed Related Crashes Data.csv\")\n",
    "y2011 = os.path.join(\"TX 2011 Speed Related Crashes Data.csv\")\n",
    "y2012 = os.path.join(\"TX 2012 Speed Related Crashes Data.csv\")\n",
    "y2013 = os.path.join(\"TX 2013 Speed Related Crashes Data.csv\")\n",
    "y2014 = os.path.join(\"TX 2014 Speed Related Crashes Data.csv\")\n",
    "y2015 = os.path.join(\"TX 2015 Speed Related Crashes Data.csv\")\n",
    "y2016 = os.path.join(\"TX 2016 Speed Related Crashes Data.csv\")"
   ]
  },
  {
   "cell_type": "code",
   "execution_count": 3,
   "metadata": {
    "collapsed": true
   },
   "outputs": [],
   "source": [
    "y2010_df = pd.read_csv(y2010, encoding = \"ISO-8859-1\")\n",
    "y2011_df = pd.read_csv(y2011, encoding = \"ISO-8859-1\")\n",
    "y2012_df = pd.read_csv(y2012, encoding = \"ISO-8859-1\")\n",
    "y2013_df = pd.read_csv(y2013, encoding = \"ISO-8859-1\")\n",
    "y2014_df = pd.read_csv(y2014, encoding = \"ISO-8859-1\")\n",
    "y2015_df = pd.read_csv(y2015, encoding = \"ISO-8859-1\")\n",
    "y2016_df = pd.read_csv(y2016, encoding = \"ISO-8859-1\")"
   ]
  },
  {
   "cell_type": "code",
   "execution_count": 4,
   "metadata": {},
   "outputs": [
    {
     "data": {
      "text/html": [
       "<div>\n",
       "<style scoped>\n",
       "    .dataframe tbody tr th:only-of-type {\n",
       "        vertical-align: middle;\n",
       "    }\n",
       "\n",
       "    .dataframe tbody tr th {\n",
       "        vertical-align: top;\n",
       "    }\n",
       "\n",
       "    .dataframe thead th {\n",
       "        text-align: right;\n",
       "    }\n",
       "</style>\n",
       "<table border=\"1\" class=\"dataframe\">\n",
       "  <thead>\n",
       "    <tr style=\"text-align: right;\">\n",
       "      <th></th>\n",
       "      <th>Crash ID</th>\n",
       "      <th>Agency</th>\n",
       "      <th>City</th>\n",
       "      <th>County</th>\n",
       "      <th>Crash Death Count</th>\n",
       "      <th>Crash Severity</th>\n",
       "      <th>Crash Time</th>\n",
       "      <th>Crash Total Injury Count</th>\n",
       "      <th>Crash Year</th>\n",
       "      <th>Day of Week</th>\n",
       "      <th>...</th>\n",
       "      <th>Manner of Collision</th>\n",
       "      <th>Population Group</th>\n",
       "      <th>Road Class</th>\n",
       "      <th>Speed Limit</th>\n",
       "      <th>Weather Condition</th>\n",
       "      <th>Vehicle Color</th>\n",
       "      <th>Person Age</th>\n",
       "      <th>Person Ethnicity</th>\n",
       "      <th>Person Gender</th>\n",
       "      <th>Person Type</th>\n",
       "    </tr>\n",
       "  </thead>\n",
       "  <tbody>\n",
       "    <tr>\n",
       "      <th>0</th>\n",
       "      <td>11154479</td>\n",
       "      <td>Paris Police Department</td>\n",
       "      <td>Paris</td>\n",
       "      <td>Lamar</td>\n",
       "      <td>0</td>\n",
       "      <td>Non-Incapacitating Injury</td>\n",
       "      <td>1254</td>\n",
       "      <td>1</td>\n",
       "      <td>2010</td>\n",
       "      <td>Friday</td>\n",
       "      <td>...</td>\n",
       "      <td>Same Direction - One Straight-One Stopped</td>\n",
       "      <td>25,000 - 49,999 Pop</td>\n",
       "      <td>Farm To Market</td>\n",
       "      <td>30</td>\n",
       "      <td>Cloudy</td>\n",
       "      <td>Gray</td>\n",
       "      <td>28</td>\n",
       "      <td>Black</td>\n",
       "      <td>Male</td>\n",
       "      <td>Driver</td>\n",
       "    </tr>\n",
       "    <tr>\n",
       "      <th>1</th>\n",
       "      <td>11154479</td>\n",
       "      <td>Paris Police Department</td>\n",
       "      <td>Paris</td>\n",
       "      <td>Lamar</td>\n",
       "      <td>0</td>\n",
       "      <td>Non-Incapacitating Injury</td>\n",
       "      <td>1254</td>\n",
       "      <td>1</td>\n",
       "      <td>2010</td>\n",
       "      <td>Friday</td>\n",
       "      <td>...</td>\n",
       "      <td>Same Direction - One Straight-One Stopped</td>\n",
       "      <td>25,000 - 49,999 Pop</td>\n",
       "      <td>Farm To Market</td>\n",
       "      <td>30</td>\n",
       "      <td>Cloudy</td>\n",
       "      <td>Red</td>\n",
       "      <td>17</td>\n",
       "      <td>Hispanic</td>\n",
       "      <td>Male</td>\n",
       "      <td>Driver</td>\n",
       "    </tr>\n",
       "  </tbody>\n",
       "</table>\n",
       "<p>2 rows × 22 columns</p>\n",
       "</div>"
      ],
      "text/plain": [
       "   Crash ID                   Agency   City County  Crash Death Count  \\\n",
       "0  11154479  Paris Police Department  Paris  Lamar                  0   \n",
       "1  11154479  Paris Police Department  Paris  Lamar                  0   \n",
       "\n",
       "              Crash Severity  Crash Time  Crash Total Injury Count  \\\n",
       "0  Non-Incapacitating Injury        1254                         1   \n",
       "1  Non-Incapacitating Injury        1254                         1   \n",
       "\n",
       "   Crash Year Day of Week     ...      \\\n",
       "0        2010      Friday     ...       \n",
       "1        2010      Friday     ...       \n",
       "\n",
       "                         Manner of Collision     Population Group  \\\n",
       "0  Same Direction - One Straight-One Stopped  25,000 - 49,999 Pop   \n",
       "1  Same Direction - One Straight-One Stopped  25,000 - 49,999 Pop   \n",
       "\n",
       "       Road Class Speed Limit Weather Condition  Vehicle Color Person Age  \\\n",
       "0  Farm To Market          30            Cloudy           Gray         28   \n",
       "1  Farm To Market          30            Cloudy            Red         17   \n",
       "\n",
       "  Person Ethnicity Person Gender Person Type  \n",
       "0            Black          Male      Driver  \n",
       "1         Hispanic          Male      Driver  \n",
       "\n",
       "[2 rows x 22 columns]"
      ]
     },
     "execution_count": 4,
     "metadata": {},
     "output_type": "execute_result"
    }
   ],
   "source": [
    "y2010_df.head(2)"
   ]
  },
  {
   "cell_type": "code",
   "execution_count": 5,
   "metadata": {},
   "outputs": [
    {
     "data": {
      "text/html": [
       "<div>\n",
       "<style scoped>\n",
       "    .dataframe tbody tr th:only-of-type {\n",
       "        vertical-align: middle;\n",
       "    }\n",
       "\n",
       "    .dataframe tbody tr th {\n",
       "        vertical-align: top;\n",
       "    }\n",
       "\n",
       "    .dataframe thead th {\n",
       "        text-align: right;\n",
       "    }\n",
       "</style>\n",
       "<table border=\"1\" class=\"dataframe\">\n",
       "  <thead>\n",
       "    <tr style=\"text-align: right;\">\n",
       "      <th></th>\n",
       "      <th>Crash ID</th>\n",
       "      <th>Agency</th>\n",
       "      <th>City</th>\n",
       "      <th>County</th>\n",
       "      <th>Crash Death Count</th>\n",
       "      <th>Crash Severity</th>\n",
       "      <th>Crash Time</th>\n",
       "      <th>Crash Total Injury Count</th>\n",
       "      <th>Crash Year</th>\n",
       "      <th>Day of Week</th>\n",
       "      <th>...</th>\n",
       "      <th>Manner of Collision</th>\n",
       "      <th>Population Group</th>\n",
       "      <th>Road Class</th>\n",
       "      <th>Speed Limit</th>\n",
       "      <th>Weather Condition</th>\n",
       "      <th>Vehicle Color</th>\n",
       "      <th>Person Age</th>\n",
       "      <th>Person Ethnicity</th>\n",
       "      <th>Person Gender</th>\n",
       "      <th>Person Type</th>\n",
       "    </tr>\n",
       "  </thead>\n",
       "  <tbody>\n",
       "    <tr>\n",
       "      <th>0</th>\n",
       "      <td>11154479</td>\n",
       "      <td>Paris Police Department</td>\n",
       "      <td>Paris</td>\n",
       "      <td>Lamar</td>\n",
       "      <td>0</td>\n",
       "      <td>Non-Incapacitating Injury</td>\n",
       "      <td>1254</td>\n",
       "      <td>1</td>\n",
       "      <td>2010</td>\n",
       "      <td>Friday</td>\n",
       "      <td>...</td>\n",
       "      <td>Same Direction - One Straight-One Stopped</td>\n",
       "      <td>25,000 - 49,999 Pop</td>\n",
       "      <td>Farm To Market</td>\n",
       "      <td>30</td>\n",
       "      <td>Cloudy</td>\n",
       "      <td>Gray</td>\n",
       "      <td>28</td>\n",
       "      <td>Black</td>\n",
       "      <td>Male</td>\n",
       "      <td>Driver</td>\n",
       "    </tr>\n",
       "    <tr>\n",
       "      <th>1</th>\n",
       "      <td>11154479</td>\n",
       "      <td>Paris Police Department</td>\n",
       "      <td>Paris</td>\n",
       "      <td>Lamar</td>\n",
       "      <td>0</td>\n",
       "      <td>Non-Incapacitating Injury</td>\n",
       "      <td>1254</td>\n",
       "      <td>1</td>\n",
       "      <td>2010</td>\n",
       "      <td>Friday</td>\n",
       "      <td>...</td>\n",
       "      <td>Same Direction - One Straight-One Stopped</td>\n",
       "      <td>25,000 - 49,999 Pop</td>\n",
       "      <td>Farm To Market</td>\n",
       "      <td>30</td>\n",
       "      <td>Cloudy</td>\n",
       "      <td>Red</td>\n",
       "      <td>17</td>\n",
       "      <td>Hispanic</td>\n",
       "      <td>Male</td>\n",
       "      <td>Driver</td>\n",
       "    </tr>\n",
       "  </tbody>\n",
       "</table>\n",
       "<p>2 rows × 22 columns</p>\n",
       "</div>"
      ],
      "text/plain": [
       "   Crash ID                   Agency   City County  Crash Death Count  \\\n",
       "0  11154479  Paris Police Department  Paris  Lamar                  0   \n",
       "1  11154479  Paris Police Department  Paris  Lamar                  0   \n",
       "\n",
       "              Crash Severity  Crash Time  Crash Total Injury Count  \\\n",
       "0  Non-Incapacitating Injury        1254                         1   \n",
       "1  Non-Incapacitating Injury        1254                         1   \n",
       "\n",
       "   Crash Year Day of Week     ...      \\\n",
       "0        2010      Friday     ...       \n",
       "1        2010      Friday     ...       \n",
       "\n",
       "                         Manner of Collision     Population Group  \\\n",
       "0  Same Direction - One Straight-One Stopped  25,000 - 49,999 Pop   \n",
       "1  Same Direction - One Straight-One Stopped  25,000 - 49,999 Pop   \n",
       "\n",
       "       Road Class Speed Limit Weather Condition  Vehicle Color Person Age  \\\n",
       "0  Farm To Market          30            Cloudy           Gray         28   \n",
       "1  Farm To Market          30            Cloudy            Red         17   \n",
       "\n",
       "  Person Ethnicity Person Gender Person Type  \n",
       "0            Black          Male      Driver  \n",
       "1         Hispanic          Male      Driver  \n",
       "\n",
       "[2 rows x 22 columns]"
      ]
     },
     "execution_count": 5,
     "metadata": {},
     "output_type": "execute_result"
    }
   ],
   "source": [
    "speedlimit_crash_df = y2010_df.append(y2011_df)\n",
    "speedlimit_crash_df = speedlimit_crash_df.append(y2012_df)\n",
    "speedlimit_crash_df = speedlimit_crash_df.append(y2013_df)\n",
    "speedlimit_crash_df = speedlimit_crash_df.append(y2014_df)\n",
    "speedlimit_crash_df = speedlimit_crash_df.append(y2015_df)\n",
    "speedlimit_crash_df = speedlimit_crash_df.append(y2016_df)\n",
    "speedlimit_crash_df.head(2)"
   ]
  },
  {
   "cell_type": "code",
   "execution_count": 6,
   "metadata": {},
   "outputs": [
    {
     "data": {
      "text/html": [
       "<div>\n",
       "<style scoped>\n",
       "    .dataframe tbody tr th:only-of-type {\n",
       "        vertical-align: middle;\n",
       "    }\n",
       "\n",
       "    .dataframe tbody tr th {\n",
       "        vertical-align: top;\n",
       "    }\n",
       "\n",
       "    .dataframe thead th {\n",
       "        text-align: right;\n",
       "    }\n",
       "</style>\n",
       "<table border=\"1\" class=\"dataframe\">\n",
       "  <thead>\n",
       "    <tr style=\"text-align: right;\">\n",
       "      <th></th>\n",
       "      <th>Crash ID</th>\n",
       "      <th>Agency</th>\n",
       "      <th>City</th>\n",
       "      <th>County</th>\n",
       "      <th>Crash Death Count</th>\n",
       "      <th>Crash Severity</th>\n",
       "      <th>Crash Time</th>\n",
       "      <th>Crash Total Injury Count</th>\n",
       "      <th>Crash Year</th>\n",
       "      <th>Day of Week</th>\n",
       "      <th>...</th>\n",
       "      <th>Manner of Collision</th>\n",
       "      <th>Population Group</th>\n",
       "      <th>Road Class</th>\n",
       "      <th>Speed Limit</th>\n",
       "      <th>Weather Condition</th>\n",
       "      <th>Vehicle Color</th>\n",
       "      <th>Person Age</th>\n",
       "      <th>Person Ethnicity</th>\n",
       "      <th>Person Gender</th>\n",
       "      <th>Person Type</th>\n",
       "    </tr>\n",
       "  </thead>\n",
       "  <tbody>\n",
       "    <tr>\n",
       "      <th>0</th>\n",
       "      <td>11154479</td>\n",
       "      <td>Paris Police Department</td>\n",
       "      <td>Paris</td>\n",
       "      <td>Lamar</td>\n",
       "      <td>0</td>\n",
       "      <td>Non-Incapacitating Injury</td>\n",
       "      <td>1254</td>\n",
       "      <td>1</td>\n",
       "      <td>2010</td>\n",
       "      <td>Friday</td>\n",
       "      <td>...</td>\n",
       "      <td>Same Direction - One Straight-One Stopped</td>\n",
       "      <td>25,000 - 49,999 Pop</td>\n",
       "      <td>Farm To Market</td>\n",
       "      <td>30</td>\n",
       "      <td>Cloudy</td>\n",
       "      <td>Gray</td>\n",
       "      <td>28</td>\n",
       "      <td>Black</td>\n",
       "      <td>Male</td>\n",
       "      <td>Driver</td>\n",
       "    </tr>\n",
       "    <tr>\n",
       "      <th>2</th>\n",
       "      <td>11154515</td>\n",
       "      <td>Department Of Public Safety, State Of Texas</td>\n",
       "      <td>Rural Wilbarger County</td>\n",
       "      <td>Wilbarger</td>\n",
       "      <td>0</td>\n",
       "      <td>Not Injured</td>\n",
       "      <td>845</td>\n",
       "      <td>0</td>\n",
       "      <td>2010</td>\n",
       "      <td>Friday</td>\n",
       "      <td>...</td>\n",
       "      <td>One Motor Vehicle - Going Straight</td>\n",
       "      <td>Rural</td>\n",
       "      <td>US &amp; State Highways</td>\n",
       "      <td>70</td>\n",
       "      <td>Cloudy</td>\n",
       "      <td>White</td>\n",
       "      <td>33</td>\n",
       "      <td>White</td>\n",
       "      <td>Female</td>\n",
       "      <td>Driver</td>\n",
       "    </tr>\n",
       "  </tbody>\n",
       "</table>\n",
       "<p>2 rows × 22 columns</p>\n",
       "</div>"
      ],
      "text/plain": [
       "   Crash ID                                       Agency  \\\n",
       "0  11154479                      Paris Police Department   \n",
       "2  11154515  Department Of Public Safety, State Of Texas   \n",
       "\n",
       "                     City     County  Crash Death Count  \\\n",
       "0                   Paris      Lamar                  0   \n",
       "2  Rural Wilbarger County  Wilbarger                  0   \n",
       "\n",
       "              Crash Severity  Crash Time  Crash Total Injury Count  \\\n",
       "0  Non-Incapacitating Injury        1254                         1   \n",
       "2                Not Injured         845                         0   \n",
       "\n",
       "   Crash Year Day of Week     ...      \\\n",
       "0        2010      Friday     ...       \n",
       "2        2010      Friday     ...       \n",
       "\n",
       "                         Manner of Collision     Population Group  \\\n",
       "0  Same Direction - One Straight-One Stopped  25,000 - 49,999 Pop   \n",
       "2         One Motor Vehicle - Going Straight                Rural   \n",
       "\n",
       "            Road Class Speed Limit Weather Condition  Vehicle Color  \\\n",
       "0       Farm To Market          30            Cloudy           Gray   \n",
       "2  US & State Highways          70            Cloudy          White   \n",
       "\n",
       "  Person Age Person Ethnicity Person Gender Person Type  \n",
       "0         28            Black          Male      Driver  \n",
       "2         33            White        Female      Driver  \n",
       "\n",
       "[2 rows x 22 columns]"
      ]
     },
     "execution_count": 6,
     "metadata": {},
     "output_type": "execute_result"
    }
   ],
   "source": [
    "speedlimit_crash_df = speedlimit_crash_df.drop_duplicates(['Crash ID'], keep='first')\n",
    "speedlimit_crash_df.head(2)"
   ]
  },
  {
   "cell_type": "code",
   "execution_count": 7,
   "metadata": {},
   "outputs": [],
   "source": [
    "speedlimit_crash_df = speedlimit_crash_df[['Speed Limit','Crash Total Injury Count']]\n"
   ]
  },
  {
   "cell_type": "code",
   "execution_count": 8,
   "metadata": {},
   "outputs": [],
   "source": [
    "df_sample=speedlimit_crash_df.sample(5000)\n"
   ]
  },
  {
   "cell_type": "code",
   "execution_count": 21,
   "metadata": {},
   "outputs": [
    {
     "data": {
      "image/png": "[encoded data removed]",
      "text/plain": [
       "<matplotlib.figure.Figure at 0x1a12de1f98>"
      ]
     },
     "metadata": {},
     "output_type": "display_data"
    }
   ],
   "source": [
    "import seaborn as sns\n",
    "plt.plot('Speed Limit', 'Crash Total Injury Count', data=speedlimit_crash_df, linestyle='none', marker='o', markersize=0.9, alpha=0.05)\n",
    "plt.title(\"Speed Limit and Speed-Related Crash Injury Count, 2010-2016\")\n",
    "plt.ylabel(\"Total Injuries per Crash\")\n",
    "plt.xlabel(\"Speed Limit (MPH)\")\n",
    "plt.ylim((0,15))\n",
    "plt.xlim((5,85))\n",
    "\n",
    "plt.show()"
   ]
  },
  {
   "cell_type": "markdown",
   "metadata": {},
   "source": [
    "### Speed Limit and Crash Injury Count\n",
    "#### * Uses a sample size of 5000\n",
    "#### * The greatest number of crashes and injuries occured between 30 and 75 MPH.\n",
    "#### * Most speed-related crashes have less than one injury per crash.\n",
    "#### * The highest rate of injuries per crash occurs at speed limits between 30 and 75 miles per hour.\n",
    "#### * Total injuries per crash are almost twice as high at speed limits greater than 30 MPH."
   ]
  },
  {
   "cell_type": "code",
   "execution_count": 17,
   "metadata": {},
   "outputs": [
    {
     "data": {
      "text/html": [
       "<div>\n",
       "<style scoped>\n",
       "    .dataframe tbody tr th:only-of-type {\n",
       "        vertical-align: middle;\n",
       "    }\n",
       "\n",
       "    .dataframe tbody tr th {\n",
       "        vertical-align: top;\n",
       "    }\n",
       "\n",
       "    .dataframe thead th {\n",
       "        text-align: right;\n",
       "    }\n",
       "</style>\n",
       "<table border=\"1\" class=\"dataframe\">\n",
       "  <thead>\n",
       "    <tr style=\"text-align: right;\">\n",
       "      <th></th>\n",
       "      <th>Speed Limit</th>\n",
       "      <th>Crash Total Injury Count</th>\n",
       "    </tr>\n",
       "  </thead>\n",
       "  <tbody>\n",
       "    <tr>\n",
       "      <th>0</th>\n",
       "      <td>-1</td>\n",
       "      <td>3099</td>\n",
       "    </tr>\n",
       "    <tr>\n",
       "      <th>1</th>\n",
       "      <td>0</td>\n",
       "      <td>4936</td>\n",
       "    </tr>\n",
       "    <tr>\n",
       "      <th>2</th>\n",
       "      <td>5</td>\n",
       "      <td>456</td>\n",
       "    </tr>\n",
       "    <tr>\n",
       "      <th>3</th>\n",
       "      <td>6</td>\n",
       "      <td>3</td>\n",
       "    </tr>\n",
       "    <tr>\n",
       "      <th>4</th>\n",
       "      <td>8</td>\n",
       "      <td>1</td>\n",
       "    </tr>\n",
       "  </tbody>\n",
       "</table>\n",
       "</div>"
      ],
      "text/plain": [
       "   Speed Limit  Crash Total Injury Count\n",
       "0           -1                      3099\n",
       "1            0                      4936\n",
       "2            5                       456\n",
       "3            6                         3\n",
       "4            8                         1"
      ]
     },
     "execution_count": 17,
     "metadata": {},
     "output_type": "execute_result"
    }
   ],
   "source": [
    "speedlimit_grouped = pd.DataFrame(speedlimit_crash_df.groupby([\"Speed Limit\"]).count()[\"Crash Total Injury Count\"])\n",
    "speedlimit_grouped=speedlimit_grouped.reset_index()\n",
    "speedlimit_grouped.head()"
   ]
  },
  {
   "cell_type": "code",
   "execution_count": 12,
   "metadata": {},
   "outputs": [
    {
     "data": {
      "image/png": "[encoded data removed]",
      "text/plain": [
       "<matplotlib.figure.Figure at 0x1a12b8c278>"
      ]
     },
     "metadata": {},
     "output_type": "display_data"
    }
   ],
   "source": [
    "plt.plot('Speed Limit', 'Crash Total Injury Count', data=speedlimit_grouped, linestyle='none', marker='o')\n",
    "plt.title(\"No. of Crashes and Speed Limit, 2010-2016\")\n",
    "plt.ylabel(\"No. of Crashes\")\n",
    "plt.xlabel(\"Speed Limit (MPH)\")\n",
    "plt.ylim((1,30000))\n",
    "plt.xlim((5,85))\n",
    "\n",
    "plt.show()"
   ]
  },
  {
   "cell_type": "code",
   "execution_count": 13,
   "metadata": {},
   "outputs": [
    {
     "data": {
      "image/png": "[encoded data removed]",
      "text/plain": [
       "<matplotlib.figure.Figure at 0x1a12fb49e8>"
      ]
     },
     "metadata": {},
     "output_type": "display_data"
    }
   ],
   "source": [
    "plt.bar('Speed Limit', 'Crash Total Injury Count', data=speedlimit_grouped)\n",
    "plt.title(\"No. of Crashes and Speed Limit\")\n",
    "plt.ylabel(\"No. of Crashes\")\n",
    "plt.xlabel(\"Speed Limit\")\n",
    "plt.ylim((1,30000))\n",
    "plt.xlim((5,85))\n",
    "\n",
    "plt.show()"
   ]
  },
  {
   "cell_type": "code",
   "execution_count": 19,
   "metadata": {},
   "outputs": [
    {
     "data": {
      "image/png": "[encoded data removed]",
      "text/plain": [
       "<matplotlib.figure.Figure at 0x1a11e040b8>"
      ]
     },
     "metadata": {},
     "output_type": "display_data"
    }
   ],
   "source": [
    "bins= [0,10,20,30,40,50,60,70,80,90]\n",
    "plt.hist(speedlimit_crash_df[\"Speed Limit\"], bins = bins, edgecolor=\"k\")\n",
    "plt.xticks(bins)\n",
    "plt.title(\"No. of Speed-Related Crashes and Speed Limit, 2010-2016\")\n",
    "plt.ylabel(\"No. of Crashes\")\n",
    "plt.xlabel(\"Speed Limit (MPH)\")\n",
    "\n",
    "plt.show()"
   ]
  },
  {
   "cell_type": "markdown",
   "metadata": {},
   "source": [
    "### No. of Crashes and Speed Limit\n",
    "#### * The majority of crashes occurred between 30 and 79 MPH speed limits with the greatest amount in the 30-39 MPH speed limits.\n",
    "#### * Speeding in 30-39 MPH speed zones caused the most crashes"
   ]
  },
  {
   "cell_type": "code",
   "execution_count": null,
   "metadata": {
    "collapsed": true
   },
   "outputs": [],
   "source": []
  },
  {
   "cell_type": "code",
   "execution_count": null,
   "metadata": {
    "collapsed": true
   },
   "outputs": [],
   "source": []
  },
  {
   "cell_type": "code",
   "execution_count": null,
   "metadata": {
    "collapsed": true
   },
   "outputs": [],
   "source": []
  },
  {
   "cell_type": "code",
   "execution_count": null,
   "metadata": {
    "collapsed": true
   },
   "outputs": [],
   "source": []
  },
  {
   "cell_type": "code",
   "execution_count": null,
   "metadata": {
    "collapsed": true
   },
   "outputs": [],
   "source": []
  }
 ],
 "metadata": {
  "kernelspec": {
   "display_name": "Python [default]",
   "language": "python",
   "name": "python3"
  },
  "language_info": {
   "codemirror_mode": {
    "name": "ipython",
    "version": 3
   },
   "file_extension": ".py",
   "mimetype": "text/x-python",
   "name": "python",
   "nbconvert_exporter": "python",
   "pygments_lexer": "ipython3",
   "version": "3.6.3"
  }
 },
 "nbformat": 4,
 "nbformat_minor": 2
}
