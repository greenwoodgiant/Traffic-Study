{
 "cells": [
  {
   "cell_type": "code",
   "execution_count": 23,
   "metadata": {
    "collapsed": true
   },
   "outputs": [],
   "source": [
    "import pandas as pd\n",
    "import matplotlib.pyplot as plt\n",
    "import numpy as np\n",
    "import seaborn as sns"
   ]
  },
  {
   "cell_type": "code",
   "execution_count": 2,
   "metadata": {},
   "outputs": [],
   "source": [
    "speed_10 = pd.read_csv(\"tx2010speeding.csv\",low_memory=False)"
   ]
  },
  {
   "cell_type": "code",
   "execution_count": 3,
   "metadata": {},
   "outputs": [
    {
     "data": {
      "text/html": [
       "<div>\n",
       "<style scoped>\n",
       "    .dataframe tbody tr th:only-of-type {\n",
       "        vertical-align: middle;\n",
       "    }\n",
       "\n",
       "    .dataframe tbody tr th {\n",
       "        vertical-align: top;\n",
       "    }\n",
       "\n",
       "    .dataframe thead th {\n",
       "        text-align: right;\n",
       "    }\n",
       "</style>\n",
       "<table border=\"1\" class=\"dataframe\">\n",
       "  <thead>\n",
       "    <tr style=\"text-align: right;\">\n",
       "      <th></th>\n",
       "      <th>ID</th>\n",
       "      <th>Date</th>\n",
       "      <th>County</th>\n",
       "      <th>Gender</th>\n",
       "      <th>Race</th>\n",
       "      <th>Searched</th>\n",
       "      <th>Contraband</th>\n",
       "      <th>Outcome</th>\n",
       "      <th>Officer ID</th>\n",
       "    </tr>\n",
       "  </thead>\n",
       "  <tbody>\n",
       "    <tr>\n",
       "      <th>0</th>\n",
       "      <td>TX-2010-0000002</td>\n",
       "      <td>2010-01-01</td>\n",
       "      <td>Guadalupe County</td>\n",
       "      <td>F</td>\n",
       "      <td>Asian</td>\n",
       "      <td>False</td>\n",
       "      <td>False</td>\n",
       "      <td>Warning</td>\n",
       "      <td>11524</td>\n",
       "    </tr>\n",
       "    <tr>\n",
       "      <th>1</th>\n",
       "      <td>TX-2010-0000003</td>\n",
       "      <td>2010-01-01</td>\n",
       "      <td>Fannin County</td>\n",
       "      <td>F</td>\n",
       "      <td>White</td>\n",
       "      <td>False</td>\n",
       "      <td>False</td>\n",
       "      <td>Warning</td>\n",
       "      <td>12274</td>\n",
       "    </tr>\n",
       "    <tr>\n",
       "      <th>2</th>\n",
       "      <td>TX-2010-0000005</td>\n",
       "      <td>2010-01-01</td>\n",
       "      <td>Dallas County</td>\n",
       "      <td>M</td>\n",
       "      <td>Black</td>\n",
       "      <td>False</td>\n",
       "      <td>False</td>\n",
       "      <td>Citation</td>\n",
       "      <td>10795</td>\n",
       "    </tr>\n",
       "    <tr>\n",
       "      <th>3</th>\n",
       "      <td>TX-2010-0000007</td>\n",
       "      <td>2010-01-01</td>\n",
       "      <td>Denton County</td>\n",
       "      <td>M</td>\n",
       "      <td>White</td>\n",
       "      <td>False</td>\n",
       "      <td>False</td>\n",
       "      <td>Citation</td>\n",
       "      <td>12571</td>\n",
       "    </tr>\n",
       "    <tr>\n",
       "      <th>4</th>\n",
       "      <td>TX-2010-0000008</td>\n",
       "      <td>2010-01-01</td>\n",
       "      <td>Collin County</td>\n",
       "      <td>M</td>\n",
       "      <td>White</td>\n",
       "      <td>False</td>\n",
       "      <td>False</td>\n",
       "      <td>Citation</td>\n",
       "      <td>5723</td>\n",
       "    </tr>\n",
       "  </tbody>\n",
       "</table>\n",
       "</div>"
      ],
      "text/plain": [
       "                ID        Date            County Gender   Race Searched  \\\n",
       "0  TX-2010-0000002  2010-01-01  Guadalupe County      F  Asian    False   \n",
       "1  TX-2010-0000003  2010-01-01     Fannin County      F  White    False   \n",
       "2  TX-2010-0000005  2010-01-01     Dallas County      M  Black    False   \n",
       "3  TX-2010-0000007  2010-01-01     Denton County      M  White    False   \n",
       "4  TX-2010-0000008  2010-01-01     Collin County      M  White    False   \n",
       "\n",
       "  Contraband   Outcome Officer ID  \n",
       "0      False   Warning      11524  \n",
       "1      False   Warning      12274  \n",
       "2      False  Citation      10795  \n",
       "3      False  Citation      12571  \n",
       "4      False  Citation       5723  "
      ]
     },
     "execution_count": 3,
     "metadata": {},
     "output_type": "execute_result"
    }
   ],
   "source": [
    "speed_10 = speed_10[['id', \n",
    "                     'stop_date', \n",
    "                     'county_name',\n",
    "                     'driver_gender', \n",
    "                     'driver_race', \n",
    "                     'search_conducted', \n",
    "                     'contraband_found', \n",
    "                     'stop_outcome', \n",
    "                     'officer_id']]\n",
    "speed_10.columns = ['ID','Date','County','Gender','Race','Searched','Contraband','Outcome','Officer ID']\n",
    "speed_10.head()"
   ]
  },
  {
   "cell_type": "code",
   "execution_count": 12,
   "metadata": {},
   "outputs": [
    {
     "data": {
      "image/png": "[encoded data removed]",
      "text/plain": [
       "<matplotlib.figure.Figure at 0x2aaaa8eca90>"
      ]
     },
     "metadata": {},
     "output_type": "display_data"
    }
   ],
   "source": [
    "gender = speed_10[\"Gender\"].value_counts()\n",
    "plt.pie(gender,labels=[\"Male\",\"Female\"],autopct=\"%1.1f%%\")\n",
    "plt.title(\"2010 Speeding Stops in Texas\")\n",
    "plt.show()"
   ]
  },
  {
   "cell_type": "code",
   "execution_count": 13,
   "metadata": {},
   "outputs": [
    {
     "data": {
      "image/png": "[encoded data removed]",
      "text/plain": [
       "<matplotlib.figure.Figure at 0x2aaa0b442b0>"
      ]
     },
     "metadata": {},
     "output_type": "display_data"
    }
   ],
   "source": [
    "race = speed_10[\"Race\"].value_counts()\n",
    "plt.pie(race,labels=[\"White\",\"Hispanic\",\"Black\",\"Asian\",\"Other\"],autopct=\"%1.1f%%\")\n",
    "plt.title(\"2010 Speeding Stops in Texas\")\n",
    "plt.show()"
   ]
  },
  {
   "cell_type": "code",
   "execution_count": 15,
   "metadata": {},
   "outputs": [
    {
     "data": {
      "image/png": "[encoded data removed]",
      "text/plain": [
       "<matplotlib.figure.Figure at 0x2aaa0c6d390>"
      ]
     },
     "metadata": {},
     "output_type": "display_data"
    }
   ],
   "source": [
    "outcomes = speed_10[\"Outcome\"].value_counts()\n",
    "plt.pie(outcomes,labels=[\"Warning\",\"Citation\"],autopct=\"%1.1f%%\")\n",
    "plt.title(\"2010 Speeding Stops in Texas\")\n",
    "plt.show()"
   ]
  },
  {
   "cell_type": "code",
   "execution_count": 37,
   "metadata": {},
   "outputs": [
    {
     "data": {
      "text/html": [
       "<div>\n",
       "<style scoped>\n",
       "    .dataframe tbody tr th:only-of-type {\n",
       "        vertical-align: middle;\n",
       "    }\n",
       "\n",
       "    .dataframe tbody tr th {\n",
       "        vertical-align: top;\n",
       "    }\n",
       "\n",
       "    .dataframe thead th {\n",
       "        text-align: right;\n",
       "    }\n",
       "</style>\n",
       "<table border=\"1\" class=\"dataframe\">\n",
       "  <thead>\n",
       "    <tr style=\"text-align: right;\">\n",
       "      <th></th>\n",
       "      <th></th>\n",
       "      <th></th>\n",
       "      <th>Outcome</th>\n",
       "    </tr>\n",
       "    <tr>\n",
       "      <th>Race</th>\n",
       "      <th>Gender</th>\n",
       "      <th>Outcome</th>\n",
       "      <th></th>\n",
       "    </tr>\n",
       "  </thead>\n",
       "  <tbody>\n",
       "    <tr>\n",
       "      <th rowspan=\"4\" valign=\"top\">Asian</th>\n",
       "      <th rowspan=\"2\" valign=\"top\">F</th>\n",
       "      <th>Warning</th>\n",
       "      <td>4116</td>\n",
       "    </tr>\n",
       "    <tr>\n",
       "      <th>Citation</th>\n",
       "      <td>3301</td>\n",
       "    </tr>\n",
       "    <tr>\n",
       "      <th rowspan=\"2\" valign=\"top\">M</th>\n",
       "      <th>Warning</th>\n",
       "      <td>10362</td>\n",
       "    </tr>\n",
       "    <tr>\n",
       "      <th>Citation</th>\n",
       "      <td>8513</td>\n",
       "    </tr>\n",
       "    <tr>\n",
       "      <th rowspan=\"4\" valign=\"top\">Black</th>\n",
       "      <th rowspan=\"2\" valign=\"top\">F</th>\n",
       "      <th>Warning</th>\n",
       "      <td>30836</td>\n",
       "    </tr>\n",
       "    <tr>\n",
       "      <th>Citation</th>\n",
       "      <td>19802</td>\n",
       "    </tr>\n",
       "    <tr>\n",
       "      <th rowspan=\"2\" valign=\"top\">M</th>\n",
       "      <th>Warning</th>\n",
       "      <td>54142</td>\n",
       "    </tr>\n",
       "    <tr>\n",
       "      <th>Citation</th>\n",
       "      <td>34433</td>\n",
       "    </tr>\n",
       "    <tr>\n",
       "      <th rowspan=\"4\" valign=\"top\">Hispanic</th>\n",
       "      <th rowspan=\"2\" valign=\"top\">F</th>\n",
       "      <th>Warning</th>\n",
       "      <td>67922</td>\n",
       "    </tr>\n",
       "    <tr>\n",
       "      <th>Citation</th>\n",
       "      <td>50635</td>\n",
       "    </tr>\n",
       "    <tr>\n",
       "      <th rowspan=\"2\" valign=\"top\">M</th>\n",
       "      <th>Warning</th>\n",
       "      <td>161107</td>\n",
       "    </tr>\n",
       "    <tr>\n",
       "      <th>Citation</th>\n",
       "      <td>120768</td>\n",
       "    </tr>\n",
       "    <tr>\n",
       "      <th rowspan=\"4\" valign=\"top\">Other</th>\n",
       "      <th rowspan=\"2\" valign=\"top\">F</th>\n",
       "      <th>Warning</th>\n",
       "      <td>605</td>\n",
       "    </tr>\n",
       "    <tr>\n",
       "      <th>Citation</th>\n",
       "      <td>360</td>\n",
       "    </tr>\n",
       "    <tr>\n",
       "      <th rowspan=\"2\" valign=\"top\">M</th>\n",
       "      <th>Warning</th>\n",
       "      <td>1166</td>\n",
       "    </tr>\n",
       "    <tr>\n",
       "      <th>Citation</th>\n",
       "      <td>684</td>\n",
       "    </tr>\n",
       "    <tr>\n",
       "      <th rowspan=\"4\" valign=\"top\">White</th>\n",
       "      <th rowspan=\"2\" valign=\"top\">F</th>\n",
       "      <th>Warning</th>\n",
       "      <td>222485</td>\n",
       "    </tr>\n",
       "    <tr>\n",
       "      <th>Citation</th>\n",
       "      <td>95285</td>\n",
       "    </tr>\n",
       "    <tr>\n",
       "      <th rowspan=\"2\" valign=\"top\">M</th>\n",
       "      <th>Warning</th>\n",
       "      <td>388117</td>\n",
       "    </tr>\n",
       "    <tr>\n",
       "      <th>Citation</th>\n",
       "      <td>175611</td>\n",
       "    </tr>\n",
       "  </tbody>\n",
       "</table>\n",
       "</div>"
      ],
      "text/plain": [
       "                          Outcome\n",
       "Race     Gender Outcome          \n",
       "Asian    F      Warning      4116\n",
       "                Citation     3301\n",
       "         M      Warning     10362\n",
       "                Citation     8513\n",
       "Black    F      Warning     30836\n",
       "                Citation    19802\n",
       "         M      Warning     54142\n",
       "                Citation    34433\n",
       "Hispanic F      Warning     67922\n",
       "                Citation    50635\n",
       "         M      Warning    161107\n",
       "                Citation   120768\n",
       "Other    F      Warning       605\n",
       "                Citation      360\n",
       "         M      Warning      1166\n",
       "                Citation      684\n",
       "White    F      Warning    222485\n",
       "                Citation    95285\n",
       "         M      Warning    388117\n",
       "                Citation   175611"
      ]
     },
     "execution_count": 37,
     "metadata": {},
     "output_type": "execute_result"
    }
   ],
   "source": [
    "grouped = speed_10.groupby([speed_10[\"Race\"],speed_10[\"Gender\"]])\n",
    "grouped_outcomes = grouped[\"Outcome\"].value_counts()\n",
    "grouped_df = pd.DataFrame(grouped_outcomes)\n",
    "grouped_df"
   ]
  },
  {
   "cell_type": "code",
   "execution_count": null,
   "metadata": {
    "collapsed": true
   },
   "outputs": [],
   "source": []
  }
 ],
 "metadata": {
  "kernelspec": {
   "display_name": "Python 3",
   "language": "python",
   "name": "python3"
  },
  "language_info": {
   "codemirror_mode": {
    "name": "ipython",
    "version": 3
   },
   "file_extension": ".py",
   "mimetype": "text/x-python",
   "name": "python",
   "nbconvert_exporter": "python",
   "pygments_lexer": "ipython3",
   "version": "3.6.3"
  }
 },
 "nbformat": 4,
 "nbformat_minor": 2
}
